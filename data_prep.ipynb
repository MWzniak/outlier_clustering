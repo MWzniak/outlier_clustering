{
 "cells": [
  {
   "cell_type": "code",
   "execution_count": 17,
   "metadata": {},
   "outputs": [],
   "source": [
    "# Loading necessary libraries\n",
    "import pandas as pd\n",
    "import numpy as np"
   ]
  },
  {
   "cell_type": "code",
   "execution_count": 18,
   "metadata": {},
   "outputs": [
    {
     "data": {
      "text/html": [
       "<div>\n",
       "<style scoped>\n",
       "    .dataframe tbody tr th:only-of-type {\n",
       "        vertical-align: middle;\n",
       "    }\n",
       "\n",
       "    .dataframe tbody tr th {\n",
       "        vertical-align: top;\n",
       "    }\n",
       "\n",
       "    .dataframe thead th {\n",
       "        text-align: right;\n",
       "    }\n",
       "</style>\n",
       "<table border=\"1\" class=\"dataframe\">\n",
       "  <thead>\n",
       "    <tr style=\"text-align: right;\">\n",
       "      <th></th>\n",
       "      <th>Unitprice</th>\n",
       "      <th>Expire date</th>\n",
       "      <th>Outbound number</th>\n",
       "      <th>Total outbound</th>\n",
       "      <th>Pal grossweight</th>\n",
       "      <th>Pal height</th>\n",
       "      <th>Units per pal</th>\n",
       "    </tr>\n",
       "    <tr>\n",
       "      <th>ID</th>\n",
       "      <th></th>\n",
       "      <th></th>\n",
       "      <th></th>\n",
       "      <th></th>\n",
       "      <th></th>\n",
       "      <th></th>\n",
       "      <th></th>\n",
       "    </tr>\n",
       "  </thead>\n",
       "  <tbody>\n",
       "    <tr>\n",
       "      <th>1</th>\n",
       "      <td>0.058</td>\n",
       "      <td>547</td>\n",
       "      <td>9</td>\n",
       "      <td>2441.0</td>\n",
       "      <td>105.60</td>\n",
       "      <td>1.56</td>\n",
       "      <td>1920</td>\n",
       "    </tr>\n",
       "    <tr>\n",
       "      <th>2</th>\n",
       "      <td>0.954</td>\n",
       "      <td>547</td>\n",
       "      <td>0</td>\n",
       "      <td>0.0</td>\n",
       "      <td>207.68</td>\n",
       "      <td>1.00</td>\n",
       "      <td>384</td>\n",
       "    </tr>\n",
       "    <tr>\n",
       "      <th>3</th>\n",
       "      <td>2.385</td>\n",
       "      <td>547</td>\n",
       "      <td>12</td>\n",
       "      <td>23.0</td>\n",
       "      <td>165.78</td>\n",
       "      <td>1.02</td>\n",
       "      <td>108</td>\n",
       "    </tr>\n",
       "    <tr>\n",
       "      <th>4</th>\n",
       "      <td>5.100</td>\n",
       "      <td>547</td>\n",
       "      <td>0</td>\n",
       "      <td>0.0</td>\n",
       "      <td>221.04</td>\n",
       "      <td>1.05</td>\n",
       "      <td>72</td>\n",
       "    </tr>\n",
       "    <tr>\n",
       "      <th>5</th>\n",
       "      <td>0.000</td>\n",
       "      <td>547</td>\n",
       "      <td>0</td>\n",
       "      <td>0.0</td>\n",
       "      <td>0.00</td>\n",
       "      <td>0.00</td>\n",
       "      <td>0</td>\n",
       "    </tr>\n",
       "  </tbody>\n",
       "</table>\n",
       "</div>"
      ],
      "text/plain": [
       "    Unitprice  Expire date  Outbound number  Total outbound  Pal grossweight  \\\n",
       "ID                                                                             \n",
       "1       0.058          547                9          2441.0           105.60   \n",
       "2       0.954          547                0             0.0           207.68   \n",
       "3       2.385          547               12            23.0           165.78   \n",
       "4       5.100          547                0             0.0           221.04   \n",
       "5       0.000          547                0             0.0             0.00   \n",
       "\n",
       "    Pal height  Units per pal  \n",
       "ID                             \n",
       "1         1.56           1920  \n",
       "2         1.00            384  \n",
       "3         1.02            108  \n",
       "4         1.05             72  \n",
       "5         0.00              0  "
      ]
     },
     "execution_count": 18,
     "metadata": {},
     "output_type": "execute_result"
    }
   ],
   "source": [
    "# Loading the original dataset\n",
    "df=pd.read_excel('sku_data.xlsx',index_col=0)\n",
    "df.head()"
   ]
  },
  {
   "cell_type": "code",
   "execution_count": 19,
   "metadata": {},
   "outputs": [],
   "source": [
    "# Removing unnecessary columns\n",
    "df=df.drop(['Expire date','Total outbound','Outbound number'],axis=1)"
   ]
  },
  {
   "cell_type": "code",
   "execution_count": 20,
   "metadata": {},
   "outputs": [],
   "source": [
    "# Renaming the columns\n",
    "df.columns=['price','weight','height','capacity']"
   ]
  },
  {
   "cell_type": "code",
   "execution_count": 21,
   "metadata": {},
   "outputs": [
    {
     "name": "stdout",
     "output_type": "stream",
     "text": [
      "<class 'pandas.core.frame.DataFrame'>\n",
      "Int64Index: 2279 entries, 1 to 2279\n",
      "Data columns (total 4 columns):\n",
      " #   Column    Non-Null Count  Dtype  \n",
      "---  ------    --------------  -----  \n",
      " 0   price     2279 non-null   float64\n",
      " 1   weight    2279 non-null   float64\n",
      " 2   height    2279 non-null   float64\n",
      " 3   capacity  2279 non-null   int64  \n",
      "dtypes: float64(3), int64(1)\n",
      "memory usage: 89.0 KB\n"
     ]
    }
   ],
   "source": [
    "# Checking for the correctness of data types and null values\n",
    "df.info()\n",
    "# Data types are correct\n",
    "# There seem to be no null values"
   ]
  },
  {
   "cell_type": "code",
   "execution_count": 22,
   "metadata": {},
   "outputs": [
    {
     "data": {
      "text/html": [
       "<div>\n",
       "<style scoped>\n",
       "    .dataframe tbody tr th:only-of-type {\n",
       "        vertical-align: middle;\n",
       "    }\n",
       "\n",
       "    .dataframe tbody tr th {\n",
       "        vertical-align: top;\n",
       "    }\n",
       "\n",
       "    .dataframe thead th {\n",
       "        text-align: right;\n",
       "    }\n",
       "</style>\n",
       "<table border=\"1\" class=\"dataframe\">\n",
       "  <thead>\n",
       "    <tr style=\"text-align: right;\">\n",
       "      <th></th>\n",
       "      <th>count</th>\n",
       "      <th>mean</th>\n",
       "      <th>std</th>\n",
       "      <th>min</th>\n",
       "      <th>25%</th>\n",
       "      <th>50%</th>\n",
       "      <th>75%</th>\n",
       "      <th>max</th>\n",
       "    </tr>\n",
       "  </thead>\n",
       "  <tbody>\n",
       "    <tr>\n",
       "      <th>price</th>\n",
       "      <td>2279.0</td>\n",
       "      <td>4.27</td>\n",
       "      <td>14.45</td>\n",
       "      <td>0.0</td>\n",
       "      <td>0.0</td>\n",
       "      <td>1.29</td>\n",
       "      <td>4.54</td>\n",
       "      <td>518.59</td>\n",
       "    </tr>\n",
       "    <tr>\n",
       "      <th>weight</th>\n",
       "      <td>2279.0</td>\n",
       "      <td>192.94</td>\n",
       "      <td>164.62</td>\n",
       "      <td>0.0</td>\n",
       "      <td>60.0</td>\n",
       "      <td>167.68</td>\n",
       "      <td>277.56</td>\n",
       "      <td>907.20</td>\n",
       "    </tr>\n",
       "    <tr>\n",
       "      <th>height</th>\n",
       "      <td>2279.0</td>\n",
       "      <td>0.67</td>\n",
       "      <td>0.55</td>\n",
       "      <td>0.0</td>\n",
       "      <td>0.0</td>\n",
       "      <td>0.84</td>\n",
       "      <td>1.02</td>\n",
       "      <td>2.16</td>\n",
       "    </tr>\n",
       "    <tr>\n",
       "      <th>capacity</th>\n",
       "      <td>2279.0</td>\n",
       "      <td>755.56</td>\n",
       "      <td>6278.44</td>\n",
       "      <td>0.0</td>\n",
       "      <td>32.0</td>\n",
       "      <td>108.00</td>\n",
       "      <td>384.00</td>\n",
       "      <td>200000.00</td>\n",
       "    </tr>\n",
       "  </tbody>\n",
       "</table>\n",
       "</div>"
      ],
      "text/plain": [
       "           count    mean      std  min   25%     50%     75%        max\n",
       "price     2279.0    4.27    14.45  0.0   0.0    1.29    4.54     518.59\n",
       "weight    2279.0  192.94   164.62  0.0  60.0  167.68  277.56     907.20\n",
       "height    2279.0    0.67     0.55  0.0   0.0    0.84    1.02       2.16\n",
       "capacity  2279.0  755.56  6278.44  0.0  32.0  108.00  384.00  200000.00"
      ]
     },
     "execution_count": 22,
     "metadata": {},
     "output_type": "execute_result"
    }
   ],
   "source": [
    "# Examining descriptive statistics\n",
    "np.round(df.describe().T,2)\n",
    "# None of the product attributes should be equal to 0"
   ]
  },
  {
   "cell_type": "code",
   "execution_count": 23,
   "metadata": {},
   "outputs": [
    {
     "data": {
      "text/html": [
       "<div>\n",
       "<style scoped>\n",
       "    .dataframe tbody tr th:only-of-type {\n",
       "        vertical-align: middle;\n",
       "    }\n",
       "\n",
       "    .dataframe tbody tr th {\n",
       "        vertical-align: top;\n",
       "    }\n",
       "\n",
       "    .dataframe thead th {\n",
       "        text-align: right;\n",
       "    }\n",
       "</style>\n",
       "<table border=\"1\" class=\"dataframe\">\n",
       "  <thead>\n",
       "    <tr style=\"text-align: right;\">\n",
       "      <th></th>\n",
       "      <th>count</th>\n",
       "      <th>mean</th>\n",
       "      <th>std</th>\n",
       "      <th>min</th>\n",
       "      <th>25%</th>\n",
       "      <th>50%</th>\n",
       "      <th>75%</th>\n",
       "      <th>max</th>\n",
       "    </tr>\n",
       "  </thead>\n",
       "  <tbody>\n",
       "    <tr>\n",
       "      <th>price</th>\n",
       "      <td>1292.0</td>\n",
       "      <td>6.08</td>\n",
       "      <td>17.45</td>\n",
       "      <td>0.00</td>\n",
       "      <td>1.14</td>\n",
       "      <td>2.81</td>\n",
       "      <td>6.81</td>\n",
       "      <td>518.59</td>\n",
       "    </tr>\n",
       "    <tr>\n",
       "      <th>weight</th>\n",
       "      <td>1292.0</td>\n",
       "      <td>256.94</td>\n",
       "      <td>139.79</td>\n",
       "      <td>1.00</td>\n",
       "      <td>165.78</td>\n",
       "      <td>226.80</td>\n",
       "      <td>296.10</td>\n",
       "      <td>907.20</td>\n",
       "    </tr>\n",
       "    <tr>\n",
       "      <th>height</th>\n",
       "      <td>1292.0</td>\n",
       "      <td>1.06</td>\n",
       "      <td>0.28</td>\n",
       "      <td>0.04</td>\n",
       "      <td>0.90</td>\n",
       "      <td>1.02</td>\n",
       "      <td>1.05</td>\n",
       "      <td>2.16</td>\n",
       "    </tr>\n",
       "    <tr>\n",
       "      <th>capacity</th>\n",
       "      <td>1292.0</td>\n",
       "      <td>398.10</td>\n",
       "      <td>805.76</td>\n",
       "      <td>2.00</td>\n",
       "      <td>72.00</td>\n",
       "      <td>108.00</td>\n",
       "      <td>384.00</td>\n",
       "      <td>12000.00</td>\n",
       "    </tr>\n",
       "  </tbody>\n",
       "</table>\n",
       "</div>"
      ],
      "text/plain": [
       "           count    mean     std   min     25%     50%     75%       max\n",
       "price     1292.0    6.08   17.45  0.00    1.14    2.81    6.81    518.59\n",
       "weight    1292.0  256.94  139.79  1.00  165.78  226.80  296.10    907.20\n",
       "height    1292.0    1.06    0.28  0.04    0.90    1.02    1.05      2.16\n",
       "capacity  1292.0  398.10  805.76  2.00   72.00  108.00  384.00  12000.00"
      ]
     },
     "execution_count": 23,
     "metadata": {},
     "output_type": "execute_result"
    }
   ],
   "source": [
    "# Dropping incorrect values\n",
    "for col in df.columns:\n",
    "    df=df.drop(df[df[col]==0].index)\n",
    "np.round(df.describe().T,2)"
   ]
  },
  {
   "cell_type": "code",
   "execution_count": 24,
   "metadata": {},
   "outputs": [
    {
     "data": {
      "text/plain": [
       "0.42"
      ]
     },
     "execution_count": 24,
     "metadata": {},
     "output_type": "execute_result"
    }
   ],
   "source": [
    "# Calculating the share of duplicates in the dataset\n",
    "np.round(len(df[df.duplicated(keep='first')])/len(df),2)"
   ]
  },
  {
   "cell_type": "code",
   "execution_count": 25,
   "metadata": {},
   "outputs": [],
   "source": [
    "# Dropping duplicates\n",
    "df=df.drop_duplicates(keep='first')"
   ]
  },
  {
   "cell_type": "code",
   "execution_count": 26,
   "metadata": {},
   "outputs": [],
   "source": [
    "# Saving the cleaned dataset\n",
    "df.to_csv('dataset.csv')"
   ]
  }
 ],
 "metadata": {
  "kernelspec": {
   "display_name": "Python 3",
   "language": "python",
   "name": "python3"
  },
  "language_info": {
   "codemirror_mode": {
    "name": "ipython",
    "version": 3
   },
   "file_extension": ".py",
   "mimetype": "text/x-python",
   "name": "python",
   "nbconvert_exporter": "python",
   "pygments_lexer": "ipython3",
   "version": "3.10.3"
  }
 },
 "nbformat": 4,
 "nbformat_minor": 2
}
